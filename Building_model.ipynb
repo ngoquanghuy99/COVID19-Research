{
 "cells": [
  {
   "cell_type": "code",
   "execution_count": 29,
   "metadata": {},
   "outputs": [],
   "source": [
    "import numpy as np\n",
    "import os\n",
    "import matplotlib.pyplot as plt\n",
    "%matplotlib inline\n",
    "import pandas as pd\n",
    "from sklearn.metrics import confusion_matrix\n",
    "import tensorflow as tf\n",
    "\n",
    "from tensorflow.keras.preprocessing.image import ImageDataGenerator\n",
    "from tensorflow.keras.optimizers import Adam, SGD\n",
    "from tensorflow.keras.callbacks import ModelCheckpoint, EarlyStopping\n",
    "from tensorflow.keras.models import Model, Sequential\n",
    "from tensorflow.keras.utils import plot_model\n",
    "from tensorflow.keras.layers import Conv2D, MaxPooling2D, BatchNormalization, \\\n",
    "    Dropout, Dense, Input, concatenate, ZeroPadding2D, \\\n",
    "    GlobalAveragePooling2D, AveragePooling2D, AvgPool2D, MaxPool2D, \\\n",
    "    Flatten, add, Activation\n",
    "from tensorflow.keras.callbacks import LearningRateScheduler\n",
    "from tensorflow.keras.regularizers import l2\n",
    "from tensorflow.keras.metrics import AUC, Precision, Recall, FalseNegatives, FalsePositives,TrueNegatives,TruePositives, CategoricalCrossentropy\n",
    "from tensorflow.keras.models import load_model\n",
    "from keras.preprocessing import image\n",
    "\n",
    "### tensorflow 2\n"
   ]
  },
  {
   "cell_type": "code",
   "execution_count": 2,
   "metadata": {},
   "outputs": [],
   "source": [
    "DATASET_DIR = 'dataset'"
   ]
  },
  {
   "cell_type": "code",
   "execution_count": 3,
   "metadata": {},
   "outputs": [
    {
     "data": {
      "text/plain": [
       "['covid', 'normal']"
      ]
     },
     "execution_count": 3,
     "metadata": {},
     "output_type": "execute_result"
    }
   ],
   "source": [
    "os.listdir(DATASET_DIR)"
   ]
  },
  {
   "cell_type": "code",
   "execution_count": 4,
   "metadata": {},
   "outputs": [],
   "source": [
    "\n",
    "import glob\n",
    "import matplotlib.image as mpimg\n",
    "%matplotlib inline\n",
    "\n",
    "normal_images = []\n",
    "for img_path in glob.glob(DATASET_DIR + '/normal/*'):\n",
    "    normal_images.append(mpimg.imread(img_path))\n",
    "    \n",
    "#fig = plt.figure()\n",
    "#fig.suptitle('normal chest xray image')\n",
    "#plt.imshow(normal_images[0], cmap='gray')\n",
    "\n"
   ]
  },
  {
   "cell_type": "code",
   "execution_count": 5,
   "metadata": {},
   "outputs": [],
   "source": [
    "covid_images = []\n",
    "for img_path in glob.glob(DATASET_DIR + '/covid/*'):\n",
    "    covid_images.append(mpimg.imread(img_path))\n",
    "#fig = plt.figure()\n",
    "#fig.suptitle('covid chest xray image')\n",
    "#plt.imshow(covid_images[0], cmap='gray')"
   ]
  },
  {
   "cell_type": "code",
   "execution_count": 6,
   "metadata": {},
   "outputs": [
    {
     "name": "stdout",
     "output_type": "stream",
     "text": [
      "number of covid images: 201, number of normal images: 200\n"
     ]
    }
   ],
   "source": [
    "print('number of covid images: {}, number of normal images: {}'.format(len(covid_images), len(normal_images)))"
   ]
  },
  {
   "cell_type": "code",
   "execution_count": 7,
   "metadata": {},
   "outputs": [
    {
     "name": "stdout",
     "output_type": "stream",
     "text": [
      "(1482, 1989, 3)\n"
     ]
    }
   ],
   "source": [
    "print(covid_images[0].shape)"
   ]
  },
  {
   "cell_type": "code",
   "execution_count": 8,
   "metadata": {},
   "outputs": [],
   "source": [
    "IMG_WIDTH = 256\n",
    "IMG_HEIGHT = 256\n",
    "CHANNELS = 3\n",
    "\n",
    "INPUT_SHAPE = (IMG_WIDTH, IMG_HEIGHT, CHANNELS)\n",
    "NB_CLASSES = 2\n",
    "EPOCHS = 48\n",
    "BATCH_SIZE = 6\n"
   ]
  },
  {
   "cell_type": "code",
   "execution_count": 9,
   "metadata": {},
   "outputs": [],
   "source": [
    "# architecture\n",
    "# 1 convo, 2 relu, 3 pooling, 4 fully"
   ]
  },
  {
   "cell_type": "code",
   "execution_count": 10,
   "metadata": {},
   "outputs": [],
   "source": [
    "model = Sequential()\n",
    "model.add(Conv2D(32, (3, 3), input_shape=INPUT_SHAPE))\n",
    "model.add(Activation('relu'))\n",
    "model.add(MaxPooling2D(pool_size=(2, 2)))"
   ]
  },
  {
   "cell_type": "code",
   "execution_count": 11,
   "metadata": {},
   "outputs": [],
   "source": [
    "model.add(Conv2D(32, (3, 3)))\n",
    "model.add(Activation('relu'))\n",
    "model.add(MaxPooling2D(pool_size=(2, 2)))"
   ]
  },
  {
   "cell_type": "code",
   "execution_count": 12,
   "metadata": {},
   "outputs": [],
   "source": [
    "model.add(Conv2D(64, (3, 3)))\n",
    "model.add(Activation('relu'))\n",
    "model.add(Conv2D(250, (3, 3)))\n",
    "model.add(Activation('relu'))"
   ]
  },
  {
   "cell_type": "code",
   "execution_count": 13,
   "metadata": {},
   "outputs": [],
   "source": [
    "model.add(Conv2D(128,(3,3)))\n",
    "model.add(Activation(\"relu\"))\n",
    "model.add(AvgPool2D(2,2))\n",
    "model.add(Conv2D(64,(3,3)))\n",
    "model.add(Activation(\"relu\"))\n",
    "model.add(AvgPool2D(2,2))"
   ]
  },
  {
   "cell_type": "code",
   "execution_count": 14,
   "metadata": {},
   "outputs": [],
   "source": [
    "model.add(Conv2D(256, (3, 3)))\n",
    "model.add(Activation('relu'))\n",
    "model.add(MaxPool2D(pool_size=(2, 2)))"
   ]
  },
  {
   "cell_type": "code",
   "execution_count": 15,
   "metadata": {},
   "outputs": [],
   "source": [
    "model.add(Flatten())\n",
    "model.add(Dense(32))\n",
    "model.add(Dropout(0.25))\n",
    "model.add(Dense(1))\n",
    "model.add(Activation('sigmoid'))\n"
   ]
  },
  {
   "cell_type": "code",
   "execution_count": 16,
   "metadata": {},
   "outputs": [],
   "source": [
    "# compile(lss, op, metr)\n",
    "model.compile(loss='binary_crossentropy', optimizer='adam', metrics=['accuracy'])"
   ]
  },
  {
   "cell_type": "code",
   "execution_count": 60,
   "metadata": {},
   "outputs": [
    {
     "name": "stdout",
     "output_type": "stream",
     "text": [
      "Model: \"sequential\"\n",
      "_________________________________________________________________\n",
      "Layer (type)                 Output Shape              Param #   \n",
      "=================================================================\n",
      "conv2d (Conv2D)              (None, 254, 254, 32)      896       \n",
      "_________________________________________________________________\n",
      "activation (Activation)      (None, 254, 254, 32)      0         \n",
      "_________________________________________________________________\n",
      "max_pooling2d (MaxPooling2D) (None, 127, 127, 32)      0         \n",
      "_________________________________________________________________\n",
      "conv2d_1 (Conv2D)            (None, 125, 125, 32)      9248      \n",
      "_________________________________________________________________\n",
      "activation_1 (Activation)    (None, 125, 125, 32)      0         \n",
      "_________________________________________________________________\n",
      "max_pooling2d_1 (MaxPooling2 (None, 62, 62, 32)        0         \n",
      "_________________________________________________________________\n",
      "conv2d_2 (Conv2D)            (None, 60, 60, 64)        18496     \n",
      "_________________________________________________________________\n",
      "activation_2 (Activation)    (None, 60, 60, 64)        0         \n",
      "_________________________________________________________________\n",
      "conv2d_3 (Conv2D)            (None, 58, 58, 250)       144250    \n",
      "_________________________________________________________________\n",
      "activation_3 (Activation)    (None, 58, 58, 250)       0         \n",
      "_________________________________________________________________\n",
      "conv2d_4 (Conv2D)            (None, 56, 56, 128)       288128    \n",
      "_________________________________________________________________\n",
      "activation_4 (Activation)    (None, 56, 56, 128)       0         \n",
      "_________________________________________________________________\n",
      "average_pooling2d (AveragePo (None, 28, 28, 128)       0         \n",
      "_________________________________________________________________\n",
      "conv2d_5 (Conv2D)            (None, 26, 26, 64)        73792     \n",
      "_________________________________________________________________\n",
      "activation_5 (Activation)    (None, 26, 26, 64)        0         \n",
      "_________________________________________________________________\n",
      "average_pooling2d_1 (Average (None, 13, 13, 64)        0         \n",
      "_________________________________________________________________\n",
      "conv2d_6 (Conv2D)            (None, 11, 11, 256)       147712    \n",
      "_________________________________________________________________\n",
      "activation_6 (Activation)    (None, 11, 11, 256)       0         \n",
      "_________________________________________________________________\n",
      "max_pooling2d_2 (MaxPooling2 (None, 5, 5, 256)         0         \n",
      "_________________________________________________________________\n",
      "flatten (Flatten)            (None, 6400)              0         \n",
      "_________________________________________________________________\n",
      "dense (Dense)                (None, 32)                204832    \n",
      "_________________________________________________________________\n",
      "dropout (Dropout)            (None, 32)                0         \n",
      "_________________________________________________________________\n",
      "dense_1 (Dense)              (None, 1)                 33        \n",
      "_________________________________________________________________\n",
      "activation_7 (Activation)    (None, 1)                 0         \n",
      "=================================================================\n",
      "Total params: 887,387\n",
      "Trainable params: 887,387\n",
      "Non-trainable params: 0\n",
      "_________________________________________________________________\n"
     ]
    }
   ],
   "source": [
    "model.summary()"
   ]
  },
  {
   "cell_type": "markdown",
   "metadata": {},
   "source": [
    "## Generator"
   ]
  },
  {
   "cell_type": "code",
   "execution_count": 17,
   "metadata": {},
   "outputs": [],
   "source": [
    "train_datagen = ImageDataGenerator(rescale=1./255,\n",
    "    shear_range=0.2,\n",
    "    zoom_range=0.2,\n",
    "    horizontal_flip=True,\n",
    "    validation_split=0.3)\n"
   ]
  },
  {
   "cell_type": "code",
   "execution_count": 18,
   "metadata": {},
   "outputs": [
    {
     "name": "stdout",
     "output_type": "stream",
     "text": [
      "Found 281 images belonging to 2 classes.\n"
     ]
    }
   ],
   "source": [
    "\n",
    "train_generator = train_datagen.flow_from_directory(\n",
    "    DATASET_DIR,\n",
    "    target_size=(IMG_HEIGHT, IMG_WIDTH),\n",
    "    batch_size=BATCH_SIZE,\n",
    "    class_mode='binary',\n",
    "    subset='training')"
   ]
  },
  {
   "cell_type": "code",
   "execution_count": 19,
   "metadata": {},
   "outputs": [
    {
     "name": "stdout",
     "output_type": "stream",
     "text": [
      "Found 120 images belonging to 2 classes.\n"
     ]
    }
   ],
   "source": [
    "validation_generator = train_datagen.flow_from_directory(\n",
    "    DATASET_DIR, \n",
    "    target_size=(IMG_HEIGHT, IMG_WIDTH),\n",
    "    batch_size=BATCH_SIZE,\n",
    "    class_mode='binary',\n",
    "    shuffle= False,\n",
    "    subset='validation')"
   ]
  },
  {
   "cell_type": "code",
   "execution_count": null,
   "metadata": {},
   "outputs": [],
   "source": []
  },
  {
   "cell_type": "code",
   "execution_count": 20,
   "metadata": {},
   "outputs": [
    {
     "name": "stdout",
     "output_type": "stream",
     "text": [
      "WARNING:tensorflow:From <ipython-input-20-8977530c0f92>:6: Model.fit_generator (from tensorflow.python.keras.engine.training) is deprecated and will be removed in a future version.\n",
      "Instructions for updating:\n",
      "Please use Model.fit, which supports generators.\n",
      "Epoch 1/48\n",
      "46/46 [==============================] - 46s 998ms/step - loss: 0.7046 - accuracy: 0.4436 - val_loss: 0.6926 - val_accuracy: 0.5000\n",
      "Epoch 2/48\n",
      "46/46 [==============================] - 23s 504ms/step - loss: 0.6904 - accuracy: 0.5797 - val_loss: 0.4963 - val_accuracy: 0.8000\n",
      "Epoch 3/48\n",
      "46/46 [==============================] - 18s 385ms/step - loss: 0.4138 - accuracy: 0.8436 - val_loss: 0.2347 - val_accuracy: 0.9083\n",
      "Epoch 4/48\n",
      "46/46 [==============================] - 18s 389ms/step - loss: 0.3955 - accuracy: 0.8509 - val_loss: 0.2050 - val_accuracy: 0.9500\n",
      "Epoch 5/48\n",
      "46/46 [==============================] - 17s 376ms/step - loss: 0.2950 - accuracy: 0.8982 - val_loss: 0.1503 - val_accuracy: 0.9583\n",
      "Epoch 6/48\n",
      "46/46 [==============================] - 17s 376ms/step - loss: 0.2684 - accuracy: 0.9200 - val_loss: 0.1757 - val_accuracy: 0.9500\n",
      "Epoch 7/48\n",
      "46/46 [==============================] - 17s 380ms/step - loss: 0.2774 - accuracy: 0.8873 - val_loss: 0.2049 - val_accuracy: 0.9250\n",
      "Epoch 8/48\n",
      "46/46 [==============================] - 17s 378ms/step - loss: 0.1638 - accuracy: 0.9382 - val_loss: 0.0931 - val_accuracy: 0.9583\n",
      "Epoch 9/48\n",
      "46/46 [==============================] - 18s 398ms/step - loss: 0.1813 - accuracy: 0.9273 - val_loss: 0.1237 - val_accuracy: 0.9333\n",
      "Epoch 10/48\n",
      "46/46 [==============================] - 19s 402ms/step - loss: 0.2412 - accuracy: 0.9309 - val_loss: 0.2741 - val_accuracy: 0.8833\n",
      "Epoch 11/48\n",
      "46/46 [==============================] - 19s 410ms/step - loss: 0.2382 - accuracy: 0.9127 - val_loss: 0.1340 - val_accuracy: 0.9667\n",
      "Epoch 12/48\n",
      "46/46 [==============================] - 18s 400ms/step - loss: 0.1546 - accuracy: 0.9418 - val_loss: 0.1672 - val_accuracy: 0.9333\n",
      "Epoch 13/48\n",
      "46/46 [==============================] - 17s 378ms/step - loss: 0.1976 - accuracy: 0.9382 - val_loss: 0.0966 - val_accuracy: 0.9667\n",
      "Epoch 14/48\n",
      "46/46 [==============================] - 18s 393ms/step - loss: 0.1480 - accuracy: 0.9564 - val_loss: 0.2517 - val_accuracy: 0.8750\n",
      "Epoch 15/48\n",
      "46/46 [==============================] - 18s 397ms/step - loss: 0.1978 - accuracy: 0.9382 - val_loss: 0.1315 - val_accuracy: 0.9417\n",
      "Epoch 16/48\n",
      "46/46 [==============================] - 18s 384ms/step - loss: 0.1655 - accuracy: 0.9273 - val_loss: 0.1029 - val_accuracy: 0.9667\n",
      "Epoch 17/48\n",
      "46/46 [==============================] - 17s 377ms/step - loss: 0.2202 - accuracy: 0.9345 - val_loss: 0.2623 - val_accuracy: 0.8833\n",
      "Epoch 18/48\n",
      "46/46 [==============================] - 17s 376ms/step - loss: 0.2679 - accuracy: 0.9273 - val_loss: 0.0846 - val_accuracy: 0.9667\n",
      "Epoch 19/48\n",
      "46/46 [==============================] - 17s 375ms/step - loss: 0.2013 - accuracy: 0.9418 - val_loss: 0.1656 - val_accuracy: 0.9417\n",
      "Epoch 20/48\n",
      "46/46 [==============================] - 17s 374ms/step - loss: 0.2126 - accuracy: 0.9273 - val_loss: 0.1463 - val_accuracy: 0.9500\n",
      "Epoch 21/48\n",
      "46/46 [==============================] - 17s 376ms/step - loss: 0.1871 - accuracy: 0.9309 - val_loss: 0.1394 - val_accuracy: 0.9583\n",
      "Epoch 22/48\n",
      "46/46 [==============================] - 17s 376ms/step - loss: 0.3348 - accuracy: 0.8909 - val_loss: 0.5446 - val_accuracy: 0.6167\n",
      "Epoch 23/48\n",
      "46/46 [==============================] - 17s 376ms/step - loss: 0.2483 - accuracy: 0.9127 - val_loss: 0.1208 - val_accuracy: 0.9583\n",
      "Epoch 24/48\n",
      "46/46 [==============================] - 17s 376ms/step - loss: 0.1892 - accuracy: 0.9564 - val_loss: 0.0821 - val_accuracy: 0.9750\n",
      "Epoch 25/48\n",
      "46/46 [==============================] - 17s 377ms/step - loss: 0.2137 - accuracy: 0.9491 - val_loss: 0.1084 - val_accuracy: 0.9833\n",
      "Epoch 26/48\n",
      "46/46 [==============================] - 17s 377ms/step - loss: 0.3677 - accuracy: 0.9055 - val_loss: 0.2034 - val_accuracy: 0.9500\n",
      "Epoch 27/48\n",
      "46/46 [==============================] - 17s 376ms/step - loss: 0.1466 - accuracy: 0.9564 - val_loss: 0.1297 - val_accuracy: 0.9417\n",
      "Epoch 28/48\n",
      "46/46 [==============================] - 17s 378ms/step - loss: 0.1923 - accuracy: 0.9236 - val_loss: 0.1563 - val_accuracy: 0.9250\n",
      "Epoch 29/48\n",
      "46/46 [==============================] - 17s 377ms/step - loss: 0.1601 - accuracy: 0.9455 - val_loss: 0.1017 - val_accuracy: 0.9750\n",
      "Epoch 30/48\n",
      "46/46 [==============================] - 17s 377ms/step - loss: 0.1337 - accuracy: 0.9527 - val_loss: 0.1083 - val_accuracy: 0.9667\n",
      "Epoch 31/48\n",
      "46/46 [==============================] - 17s 376ms/step - loss: 0.0893 - accuracy: 0.9673 - val_loss: 0.1006 - val_accuracy: 0.9667\n",
      "Epoch 32/48\n",
      "46/46 [==============================] - 17s 375ms/step - loss: 0.1417 - accuracy: 0.9382 - val_loss: 0.0579 - val_accuracy: 0.9833\n",
      "Epoch 33/48\n",
      "46/46 [==============================] - 17s 377ms/step - loss: 0.1374 - accuracy: 0.9345 - val_loss: 0.1500 - val_accuracy: 0.9417\n",
      "Epoch 34/48\n",
      "46/46 [==============================] - 17s 373ms/step - loss: 0.1410 - accuracy: 0.9491 - val_loss: 0.1076 - val_accuracy: 0.9583\n",
      "Epoch 35/48\n",
      "46/46 [==============================] - 17s 377ms/step - loss: 0.1414 - accuracy: 0.9455 - val_loss: 0.1206 - val_accuracy: 0.9583\n",
      "Epoch 36/48\n",
      "46/46 [==============================] - 22s 483ms/step - loss: 0.1311 - accuracy: 0.9491 - val_loss: 0.1090 - val_accuracy: 0.9750\n",
      "Epoch 37/48\n",
      "46/46 [==============================] - 17s 372ms/step - loss: 0.1500 - accuracy: 0.9418 - val_loss: 0.1719 - val_accuracy: 0.9250\n",
      "Epoch 38/48\n",
      "46/46 [==============================] - 17s 373ms/step - loss: 0.1250 - accuracy: 0.9491 - val_loss: 0.1941 - val_accuracy: 0.9500\n",
      "Epoch 39/48\n",
      "46/46 [==============================] - 17s 371ms/step - loss: 0.0972 - accuracy: 0.9600 - val_loss: 0.1003 - val_accuracy: 0.9667\n",
      "Epoch 40/48\n",
      "46/46 [==============================] - 17s 375ms/step - loss: 0.1694 - accuracy: 0.9418 - val_loss: 0.1068 - val_accuracy: 0.9583\n",
      "Epoch 41/48\n",
      "46/46 [==============================] - 17s 380ms/step - loss: 0.1425 - accuracy: 0.9600 - val_loss: 0.0695 - val_accuracy: 0.9750\n",
      "Epoch 42/48\n",
      "46/46 [==============================] - 18s 382ms/step - loss: 0.1316 - accuracy: 0.9564 - val_loss: 0.0912 - val_accuracy: 0.9583\n",
      "Epoch 43/48\n",
      "46/46 [==============================] - 17s 375ms/step - loss: 0.0974 - accuracy: 0.9709 - val_loss: 0.1446 - val_accuracy: 0.9417\n",
      "Epoch 44/48\n",
      "46/46 [==============================] - 17s 375ms/step - loss: 0.1184 - accuracy: 0.9600 - val_loss: 0.1226 - val_accuracy: 0.9500\n",
      "Epoch 45/48\n",
      "46/46 [==============================] - 17s 378ms/step - loss: 0.0925 - accuracy: 0.9745 - val_loss: 0.2336 - val_accuracy: 0.9083\n",
      "Epoch 46/48\n",
      "46/46 [==============================] - 17s 377ms/step - loss: 0.1078 - accuracy: 0.9673 - val_loss: 0.0656 - val_accuracy: 0.9750\n",
      "Epoch 47/48\n",
      "46/46 [==============================] - 17s 377ms/step - loss: 0.0810 - accuracy: 0.9745 - val_loss: 0.1741 - val_accuracy: 0.9167\n",
      "Epoch 48/48\n",
      "46/46 [==============================] - 17s 377ms/step - loss: 0.0950 - accuracy: 0.9709 - val_loss: 0.1196 - val_accuracy: 0.9500\n"
     ]
    }
   ],
   "source": [
    "history = model.fit_generator(\n",
    "    train_generator,\n",
    "    steps_per_epoch = train_generator.samples // BATCH_SIZE,\n",
    "    validation_data = validation_generator, \n",
    "    validation_steps = validation_generator.samples // BATCH_SIZE,\n",
    "    epochs = EPOCHS)"
   ]
  },
  {
   "cell_type": "code",
   "execution_count": 21,
   "metadata": {},
   "outputs": [],
   "source": [
    "model.save('vgg16_covid.h5')"
   ]
  },
  {
   "cell_type": "code",
   "execution_count": 38,
   "metadata": {},
   "outputs": [
    {
     "data": {
      "image/png": "[encoded data removed]",
      "text/plain": [
       "<Figure size 432x288 with 1 Axes>"
      ]
     },
     "metadata": {},
     "output_type": "display_data"
    },
    {
     "data": {
      "image/png": "[encoded data removed]",
      "text/plain": [
       "<Figure size 432x288 with 1 Axes>"
      ]
     },
     "metadata": {},
     "output_type": "display_data"
    }
   ],
   "source": [
    "plt.plot(history.history['accuracy'])\n",
    "plt.plot(history.history['val_accuracy'])\n",
    "plt.title('model accuracy')\n",
    "plt.ylabel('accuracy')\n",
    "plt.xlabel('epoch')\n",
    "plt.legend(['train', 'test'], loc='upper left')\n",
    "plt.show()\n",
    "\n",
    "plt.plot(history.history['loss'])\n",
    "plt.plot(history.history['val_loss'])\n",
    "plt.title('model loss')\n",
    "plt.ylabel('loss')\n",
    "plt.xlabel('epoch')\n",
    "plt.legend(['train', 'test'], loc='upper left')\n",
    "plt.show()"
   ]
  },
  {
   "cell_type": "code",
   "execution_count": 23,
   "metadata": {},
   "outputs": [
    {
     "name": "stdout",
     "output_type": "stream",
     "text": [
      "training_accuracy 0.9709091186523438\n",
      "validation_accuracy 0.949999988079071\n"
     ]
    }
   ],
   "source": [
    "print(\"training_accuracy\", history.history['accuracy'][-1]) # the last epoch (47)\n",
    "print(\"validation_accuracy\", history.history['val_accuracy'][-1])"
   ]
  },
  {
   "cell_type": "code",
   "execution_count": 50,
   "metadata": {},
   "outputs": [],
   "source": [
    "label = validation_generator.classes"
   ]
  },
  {
   "cell_type": "code",
   "execution_count": 56,
   "metadata": {},
   "outputs": [
    {
     "name": "stdout",
     "output_type": "stream",
     "text": [
      "[0 0 0 0 0 0 0 0 0 0 0 0 0 0 0 0 0 0 0 0 0 0 0 0 0 0 0 0 0 0 0 0 0 0 0 0 0\n",
      " 0 0 0 0 0 0 0 0 0 0 0 0 0 0 0 0 0 0 0 0 0 0 0 1 1 1 1 1 1 1 1 1 1 1 1 1 1\n",
      " 1 1 1 1 1 1 1 1 1 1 1 1 1 1 1 1 1 1 1 1 1 1 1 1 1 1 1 1 1 1 1 1 1 1 1 1 1\n",
      " 1 1 1 1 1 1 1 1 1]\n"
     ]
    }
   ],
   "source": [
    "print(label)"
   ]
  },
  {
   "cell_type": "code",
   "execution_count": null,
   "metadata": {},
   "outputs": [],
   "source": []
  }
 ],
 "metadata": {
  "kernelspec": {
   "display_name": "Python 3",
   "language": "python",
   "name": "python3"
  },
  "language_info": {
   "codemirror_mode": {
    "name": "ipython",
    "version": 3
   },
   "file_extension": ".py",
   "mimetype": "text/x-python",
   "name": "python",
   "nbconvert_exporter": "python",
   "pygments_lexer": "ipython3",
   "version": "3.6.5"
  }
 },
 "nbformat": 4,
 "nbformat_minor": 2
}
